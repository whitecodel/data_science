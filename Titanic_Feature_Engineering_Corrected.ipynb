{
  "cells": [
    {
      "cell_type": "markdown",
      "metadata": {},
      "source": [
        "# Mastering Feature Engineering with the Titanic Dataset\n",
        "In this notebook, we will go through the complete feature engineering process using the Titanic dataset, including handling missing values, encoding, creating new features, feature scaling, feature selection, and data visualization."
      ]
    },
    {
      "cell_type": "code",
      "execution_count": null,
      "metadata": {},
      "outputs": [],
      "source": [
        "# Import necessary libraries\n",
        "import pandas as pd\n",
        "import numpy as np\n",
        "import matplotlib.pyplot as plt\n",
        "import seaborn as sns\n",
        "from sklearn.preprocessing import StandardScaler\n",
        "from sklearn.ensemble import RandomForestClassifier\n",
        "\n",
        "# Load Titanic dataset\n",
        "df = pd.read_csv('https://raw.githubusercontent.com/datasciencedojo/datasets/master/titanic.csv')\n",
        "\n",
        "# Data Preprocessing\n",
        "# Drop irrelevant columns\n",
        "df = df.drop(['PassengerId', 'Name', 'Ticket', 'Cabin'], axis=1)\n",
        "\n",
        "# Handling Missing Values\n",
        "df['Age'] = df['Age'].fillna(df['Age'].mean())  # Fill missing values in 'Age' with the mean age\n",
        "df['Embarked'] = df['Embarked'].fillna(df['Embarked'].mode()[0])  # Fill missing values in 'Embarked' with the most common port\n",
        "\n",
        "# Encoding Categorical Variables\n",
        "df['Sex'] = df['Sex'].map({'female': 0, 'male': 1})\n",
        "df['Embarked'] = df['Embarked'].map({'S': 0, 'C': 1, 'Q': 2})\n",
        "\n",
        "# Creating New Features\n",
        "df['FamilySize'] = df['SibSp'] + df['Parch'] + 1  # Create a new feature 'FamilySize'\n",
        "df['IsAlone'] = 1  # Create a new feature 'IsAlone'\n",
        "df.loc[df['FamilySize'] > 1, 'IsAlone'] = 0  # Set to 0 if not alone\n",
        "\n",
        "# Feature Scaling\n",
        "scaler = StandardScaler()\n",
        "df[['Age', 'Fare']] = scaler.fit_transform(df[['Age', 'Fare']])\n",
        "\n",
        "# Feature Selection\n",
        "X = df.drop('Survived', axis=1)\n",
        "y = df['Survived']\n",
        "\n",
        "# Random Forest for feature importance\n",
        "model = RandomForestClassifier()\n",
        "model.fit(X, y)\n",
        "feature_importances = pd.Series(model.feature_importances_, index=X.columns)\n",
        "\n",
        "# Visualisation: Correlation Matrix\n",
        "plt.figure(figsize=(10, 8))\n",
        "sns.heatmap(df.corr(), annot=True, cmap='coolwarm')\n",
        "plt.title('Correlation Matrix')\n",
        "plt.show()\n",
        "\n",
        "# Visualisation: Age Distribution by Survival Status\n",
        "plt.figure(figsize=(10, 6))\n",
        "sns.histplot(data=df, x='Age', hue='Survived', multiple='stack')\n",
        "plt.title('Age Distribution by Survival Status')\n",
        "plt.show()\n",
        "\n",
        "# Visualisation: Family Size vs. Survival Rate\n",
        "plt.figure(figsize=(10, 6))\n",
        "sns.barplot(data=df, x='FamilySize', y='Survived', ci=None)\n",
        "plt.title('Family Size vs. Survival Rate')\n",
        "plt.show()\n",
        "\n",
        "# Save the processed data\n",
        "df.to_csv('titanic_processed.csv', index=False)\n",
        "\n",
        "# Display feature importances\n",
        "print('Feature Importances:')\n",
        "print(feature_importances.sort_values(ascending=False))"
      ]
    }
  ],
  "metadata": {
    "kernelspec": {
      "display_name": "Python 3",
      "language": "python",
      "name": "python3"
    },
    "language_info": {
      "name": "python",
      "version": "3.7.0"
    }
  },
  "nbformat": 4,
  "nbformat_minor": 4
}